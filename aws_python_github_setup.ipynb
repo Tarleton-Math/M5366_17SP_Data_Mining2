{
 "cells": [
  {
   "cell_type": "markdown",
   "metadata": {},
   "source": [
    "# Create AWS instance and install Python\n",
    "\n",
    "Mostly from http://chrisalbon.com/jupyter/run_project_jupyter_on_amazon_ec2.html, with a few tweaks\n",
    "\n",
    "1. create AWS account\n",
    "1. launch T2.micro ubuntu 16.04 instance\n",
    "1. store .pem file\n",
    "1. security group - add ssh & consider restricting IP addresses for security.  The following restricts to TSU on campus address 173.255.0.0/16.  Will need to use VPN to connect elsewhere.\n",
    "1. create elastic ip and associate to instance above\n",
    "1. download and install putty and puttygen\n",
    "1. convert .pem to .ppk using puttygen.  Store both\n",
    "1. ssh into the instance\n",
    "    - open Putty\n",
    "    - Use Elastic IP address, port 22, SSH\n",
    "    - Connection -> Data -> username = ubuntu\n",
    "    - Connection -> SSH -> Auth -> set private key to the .ppk file created above\n",
    "    - Save settings\n",
    "    - If connecting off campus, must use VPN if using SSH IP address restrictions in security group settings\n",
    "    - save profile\n",
    "    - open\n",
    "    - click okay if rsa popup\n",
    "1. Update system software\n",
    "    - sudo apt-get update - Fetches the list of available updates\n",
    "    - sudo apt-get upgrade - Strictly upgrades the current packages\n",
    "    - sudo apt-get dist-upgrade - Installs updates (new ones)\n",
    "    - sudo reboot\n",
    "1. Find linux anaconda installer url https://www.continuum.io/downloads\n",
    "1. wget \"that url\"\n",
    "1. bash \"that file\" - runs installer\n",
    "1. conda update anaconda\n",
    "1. Create notebook folder in /home/ubuntu\n",
    "1. Follow rest of instructions at http://chrisalbon.com/jupyter/run_project_jupyter_on_amazon_ec2.html with following changes\n",
    "    - While editing config file, add c.NotebookApp.notebook_dir = u\"/home/ubuntu/notebooks\"\n",
    "1. Install Jupyter Extensions from https://github.com/ipython-contrib/jupyter_contrib_nbextensions\n",
    "1. URL to connect is the elastic IP for your AWS instance, follwed by \":8888\"\n",
    "1. Optional - Make Jupyter launch at startup\n",
    "    - sudo vim /etc/rc.local\n",
    "    - i - enters insert mode\n",
    "    - sudo /home/ubuntu/anaconda3/bin/jupyter notebook --config /home/ubuntu/.jupyter/jupyter_notebook_config.py\n",
    "    - press esc - enters command mode\n",
    "    - :w - saves \n",
    "    - :q - quits"
   ]
  },
  {
   "cell_type": "markdown",
   "metadata": {},
   "source": [
    "# Setup rsa github access\n",
    "https://help.github.com/articles/generating-an-ssh-key/\n",
    "\n",
    "http://stackoverflow.com/questions/6565357/git-push-requires-username-and-password\n",
    "\n",
    "1. In jupyter, open new terminal OR ssh into the instance via putty\n",
    "1. git config --global --replace-all user.name {your github username}\n",
    "1. git config --global --replace-all user.email {your email}\n",
    "1. Below here, replace {rsafile} with /home/ubuntu/.ssh/id_rsa  This is your PRIVATE key.\n",
    "1. cd /home/ubuntu/.ssh\n",
    "1. ls\n",
    "    - Does id_rsa already exist? If not, create by ssh-keygen -t rsa -b 4096 -N \"\" -C {your email} -f {rsa_file}\n",
    "1. eval \"$(ssh-agent -s)\"\n",
    "1. ssh-add {rsafile}\n",
    "1. head {rsa_file}.pub - prints the PUBLIC key.\n",
    "1. copy this public key to your github profile"
   ]
  },
  {
   "cell_type": "markdown",
   "metadata": {},
   "source": [
    "# Make local clone of existing repo\n",
    "\n",
    "1. From github repo, click \"clone or download\".  Copy the *ssh* address.  Denote it {url}\n",
    "1. cd /home/ubuntu/notebooks\n",
    "1. git clone {url}\n",
    "    - Should create subdirectory\n",
    "    - Alternatively, create subdir manually.  Then append that dir to clone command.\n",
    "1. git pull\n",
    "1. test write privileges\n",
    "    - cd into subdir\n",
    "    - echo 'Hello World' >> testfile.md\n",
    "    - git add testfile.md\n",
    "    - git commit -m \"Testing git write access\"\n",
    "    - git push\n",
    "    - go to your github repo, refresh, see if changes appear"
   ]
  },
  {
   "cell_type": "markdown",
   "metadata": {},
   "source": [
    "# OS commands in notebooks\n",
    "You can issue OS commands within a jupyter notebook in several ways\n",
    "- import os    then  os.system(commands).   See documentation on the python os module\n",
    "- Lines starting with ! are sent as bash commands to the os\n",
    "- Use the \"magic\" command %%bash to make an entire cell into a bash script\n",
    "\n",
    "However, I usually find it easier to interact directly with the terminal.  As far as I can tell, none of these is interactive.  So if a command requires additional user input, it usually fails.  For example, you probably needed to respond \"yes\" to a message about rsa keys earlier.  "
   ]
  }
 ],
 "metadata": {
  "anaconda-cloud": {},
  "kernelspec": {
   "display_name": "Python 3",
   "language": "python",
   "name": "python3"
  },
  "language_info": {
   "codemirror_mode": {
    "name": "ipython",
    "version": 3
   },
   "file_extension": ".py",
   "mimetype": "text/x-python",
   "name": "python",
   "nbconvert_exporter": "python",
   "pygments_lexer": "ipython3",
   "version": "3.5.2"
  },
  "latex_envs": {
   "LaTeX_envs_menu_present": true,
   "bibliofile": "biblio.bib",
   "cite_by": "apalike",
   "current_citInitial": 1,
   "eqLabelWithNumbers": true,
   "eqNumInitial": 1,
   "labels_anchors": false,
   "latex_user_defs": false,
   "report_style_numbering": false,
   "user_envs_cfg": false
  },
  "toc": {
   "colors": {
    "hover_highlight": "#DAA520",
    "running_highlight": "#FF0000",
    "selected_highlight": "#FFD700"
   },
   "moveMenuLeft": true,
   "nav_menu": {
    "height": "12px",
    "width": "252px"
   },
   "navigate_menu": true,
   "number_sections": true,
   "sideBar": true,
   "threshold": 4,
   "toc_cell": false,
   "toc_section_display": "block",
   "toc_window_display": false
  }
 },
 "nbformat": 4,
 "nbformat_minor": 1
}
